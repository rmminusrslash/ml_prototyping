{
 "cells": [
  {
   "attachments": {},
   "cell_type": "markdown",
   "metadata": {},
   "source": [
    "# NLP Kaggle Challenge: Match queries to similar patents\n",
    "\n",
    "## Problem Description\n",
    "Determining the semantic similarity between phrases is critically important during the patent search and examination process to determine if an invention has been described before. For example, if one invention claims \"television set\" and a prior publication describes \"TV set\", a model would ideally recognize these are the same and assist a patent attorney or examiner in retrieving relevant documents. This extends beyond paraphrase identification; if one invention claims a \"strong material\" and another uses \"steel\", that may also be a match. What counts as a \"strong material\" varies per domain (it may be steel in one domain and ripstop fabric in another, but you wouldn't want your parachute made of steel). The data includs the Cooperative Patent Classification as the technical domain context as an additional feature to help disambiguate these situations.\n",
    "\n",
    "## Data Source\n",
    "https://www.kaggle.com/competitions/us-patent-phrase-to-phrase-matching/overview\n",
    "\n",
    "## Approach\n",
    "I use a simple training of word embeddings and an embedding of the context. I expect this approach to be a strong baseline, but not a winner."
   ]
  },
  {
   "cell_type": "code",
   "execution_count": 1,
   "metadata": {},
   "outputs": [],
   "source": [
    "import torch\n",
    "import numpy as np\n",
    "import pandas as pd"
   ]
  },
  {
   "cell_type": "code",
   "execution_count": 2,
   "metadata": {},
   "outputs": [
    {
     "name": "stdout",
     "output_type": "stream",
     "text": [
      "Requirement already satisfied: openai in ./.venv/lib/python3.10/site-packages (0.27.10)\n",
      "Requirement already satisfied: requests>=2.20 in ./.venv/lib/python3.10/site-packages (from openai) (2.31.0)\n",
      "Requirement already satisfied: tqdm in ./.venv/lib/python3.10/site-packages (from openai) (4.66.1)\n",
      "Requirement already satisfied: aiohttp in ./.venv/lib/python3.10/site-packages (from openai) (3.8.5)\n",
      "Requirement already satisfied: charset-normalizer<4,>=2 in ./.venv/lib/python3.10/site-packages (from requests>=2.20->openai) (3.2.0)\n",
      "Requirement already satisfied: idna<4,>=2.5 in ./.venv/lib/python3.10/site-packages (from requests>=2.20->openai) (3.4)\n",
      "Requirement already satisfied: urllib3<3,>=1.21.1 in ./.venv/lib/python3.10/site-packages (from requests>=2.20->openai) (2.0.4)\n",
      "Requirement already satisfied: certifi>=2017.4.17 in ./.venv/lib/python3.10/site-packages (from requests>=2.20->openai) (2023.7.22)\n",
      "Requirement already satisfied: attrs>=17.3.0 in ./.venv/lib/python3.10/site-packages (from aiohttp->openai) (23.1.0)\n",
      "Requirement already satisfied: multidict<7.0,>=4.5 in ./.venv/lib/python3.10/site-packages (from aiohttp->openai) (6.0.4)\n",
      "Requirement already satisfied: async-timeout<5.0,>=4.0.0a3 in ./.venv/lib/python3.10/site-packages (from aiohttp->openai) (4.0.3)\n",
      "Requirement already satisfied: yarl<2.0,>=1.0 in ./.venv/lib/python3.10/site-packages (from aiohttp->openai) (1.9.2)\n",
      "Requirement already satisfied: frozenlist>=1.1.1 in ./.venv/lib/python3.10/site-packages (from aiohttp->openai) (1.4.0)\n",
      "Requirement already satisfied: aiosignal>=1.1.2 in ./.venv/lib/python3.10/site-packages (from aiohttp->openai) (1.3.1)\n"
     ]
    }
   ],
   "source": [
    "# only needed for kaggle\n",
    "! pip install openai\n"
   ]
  },
  {
   "cell_type": "code",
   "execution_count": 3,
   "metadata": {},
   "outputs": [],
   "source": [
    "import random\n",
    "\n",
    "def set_seed(seed=42):\n",
    "    random.seed(seed)               # Python\n",
    "    np.random.seed(seed)            # Numpy\n",
    "    torch.manual_seed(seed)         # PyTorch CPU\n",
    "    if torch.cuda.is_available():\n",
    "        torch.cuda.manual_seed(seed)       # PyTorch CUDA\n",
    "        torch.cuda.manual_seed_all(seed)   # PyTorch all GPUs\n",
    "        torch.backends.cudnn.deterministic = True  # CUDNN\n",
    "        torch.backends.cudnn.benchmark = False\n",
    "\n",
    "set_seed(42)"
   ]
  },
  {
   "attachments": {},
   "cell_type": "markdown",
   "metadata": {},
   "source": [
    "## Read data\n"
   ]
  },
  {
   "cell_type": "code",
   "execution_count": 4,
   "metadata": {},
   "outputs": [
    {
     "data": {
      "text/plain": [
       "(                 id     anchor                  target context  score\n",
       " 0  37d61fd2272659b1  abatement  abatement of pollution     A47   0.50\n",
       " 1  7b9652b17b68b7a4  abatement          act of abating     A47   0.75\n",
       " 2  36d72442aefd8232  abatement         active catalyst     A47   0.25\n",
       " 3  5296b0c19e1ce60e  abatement     eliminating process     A47   0.50\n",
       " 4  54c1e3b9184cb5b6  abatement           forest region     A47   0.00,\n",
       " 36473)"
      ]
     },
     "execution_count": 4,
     "metadata": {},
     "output_type": "execute_result"
    }
   ],
   "source": [
    "from pathlib import Path\n",
    "\n",
    "is_local= not Path(\"/kaggle\").exists()\n",
    "if is_local:\n",
    "    df = pd.read_csv(\"~/Downloads/us-patent-phrase-to-phrase-matching/train.csv\")\n",
    "else:\n",
    "    df = pd.read_csv(\"/kaggle/input/us-patent-phrase-to-phrase-matching/train.csv\")\n",
    "\n",
    "df.head(),len(df)"
   ]
  },
  {
   "cell_type": "markdown",
   "metadata": {},
   "source": [
    "## Preprocess: Get embeddings\n",
    "Here you can use any embedding model to embed your text"
   ]
  },
  {
   "cell_type": "code",
   "execution_count": 5,
   "metadata": {},
   "outputs": [],
   "source": [
    "from openai import Embedding\n",
    "from typing import List\n",
    "\n",
    "from tenacity import retry, stop_after_attempt, wait_random_exponential\n",
    "\n",
    "# copied from openai since they have bigger dependencies in this file that I dont need \n",
    "@retry(wait=wait_random_exponential(min=1, max=20), stop=stop_after_attempt(6))\n",
    "def get_embeddings(\n",
    "    list_of_text: List[str], engine=\"text-similarity-babbage-001\", **kwargs\n",
    ") -> List[List[float]]:\n",
    "    assert len(list_of_text) <= 2048, \"The batch size should not be larger than 2048.\"\n",
    "\n",
    "    # replace newlines, which can negatively affect performance.\n",
    "    list_of_text = [text.replace(\"\\n\", \" \") for text in list_of_text]\n",
    "\n",
    "    data = Embedding.create(input=list_of_text, engine=engine, **kwargs).data\n",
    "    return [d[\"embedding\"] for d in data]\n",
    "\n"
   ]
  },
  {
   "cell_type": "code",
   "execution_count": 6,
   "metadata": {},
   "outputs": [],
   "source": [
    "import pickle\n",
    "import os\n",
    "from pathlib import Path\n",
    "\n",
    "import openai\n",
    "from tqdm.notebook import tqdm\n",
    "import dotenv\n",
    "dotenv.load_dotenv()\n",
    "\n",
    "def add_embeddings(df,cache_file_prefix=\"\"):\n",
    "    max_batch_size=2048\n",
    "\n",
    "    for col in [\"anchor\",\"target\"]:\n",
    "        cache = f'data/{cache_file_prefix}{col}.pickle' if is_local else  f'{cache_file_prefix}{col}.pickle'\n",
    "        if Path(cache).exists():\n",
    "            embeddings = pickle.load(open(cache,\"rb\"))\n",
    "        else:\n",
    "            # sign up with openai and generate a key. creating the embeddings costs 5 cents in August 2023\n",
    "            # put your openai key in the a .env file in your repo root \n",
    "            # could be improved by adding a check if an embedding was already calculated but since it is so cheap, I don't bother for now\n",
    "            if is_local:\n",
    "                openai.api_key = os.environ[\"OPEN_AI_KEY\"]\n",
    "            else:\n",
    "                from kaggle_secrets import UserSecretsClient\n",
    "                user_secrets = UserSecretsClient()\n",
    "                openai.api_key = user_secrets.get_secret(\"OPEN_AI_KEY\")\n",
    "            embeddings= []\n",
    "            for i in tqdm(range(0,len(df),max_batch_size),total=len(df)//max_batch_size):\n",
    "                texts= df[col].iloc[i:i+max_batch_size]\n",
    "                embeddings.extend(get_embeddings(texts,engine=\"text-embedding-ada-002\"))\n",
    "\n",
    "            with open(cache, 'wb') as f:\n",
    "                pickle.dump(embeddings, f)\n",
    "        df[col+\"_embeddings\"]=embeddings\n",
    "    return df\n",
    "\n",
    "df=add_embeddings(df)"
   ]
  },
  {
   "cell_type": "code",
   "execution_count": 7,
   "metadata": {},
   "outputs": [],
   "source": [
    "words = df.context.unique()\n",
    "df[\"cat\"] = df.context.str[0]\n",
    "categories = df[\"cat\"].unique()\n",
    "\n",
    "word_to_ix= dict(zip(words, range(len(words))))\n",
    "cat_to_ix= dict(zip(categories, range(len(categories))))\n",
    "\n",
    "df[\"context_id\"] = df.apply(lambda x:word_to_ix[x[\"context\"]],axis=1)\n",
    "df[\"cat_id\"] = df.apply(lambda x:cat_to_ix[x[\"cat\"]],axis=1)"
   ]
  },
  {
   "cell_type": "code",
   "execution_count": 8,
   "metadata": {},
   "outputs": [
    {
     "data": {
      "text/plain": [
       "(33473, 3000)"
      ]
     },
     "execution_count": 8,
     "metadata": {},
     "output_type": "execute_result"
    }
   ],
   "source": [
    "eval_df= df.sample(3000, random_state=1).reset_index()\n",
    "df =df.iloc[~df.index.isin(eval_df.index)].reset_index()\n",
    "len(df),len(eval_df)"
   ]
  },
  {
   "cell_type": "markdown",
   "metadata": {},
   "source": [
    "## Baseline: Embedding cosine similarity\n"
   ]
  },
  {
   "cell_type": "code",
   "execution_count": 9,
   "metadata": {},
   "outputs": [],
   "source": [
    "def cosine_similarity(a, b):\n",
    "    return np.dot(a, b) / (np.linalg.norm(a) * np.linalg.norm(b))"
   ]
  },
  {
   "cell_type": "code",
   "execution_count": 10,
   "metadata": {},
   "outputs": [],
   "source": [
    "df[\"cosine_sim\"]=df.apply(lambda x: cosine_similarity(x[\"anchor_embeddings\"],x[\"target_embeddings\"]),axis=1 )\n",
    "eval_df[\"cosine_sim\"]=eval_df.apply(lambda x: cosine_similarity(x[\"anchor_embeddings\"],x[\"target_embeddings\"]),axis=1 )"
   ]
  },
  {
   "cell_type": "code",
   "execution_count": 11,
   "metadata": {},
   "outputs": [
    {
     "data": {
      "image/png": "[encoded data removed]",
      "text/plain": [
       "<Figure size 640x480 with 1 Axes>"
      ]
     },
     "metadata": {},
     "output_type": "display_data"
    }
   ],
   "source": [
    "## compare target and actual\n",
    "df.cosine_sim.hist(bins=40)\n",
    "df.score.hist(bins=30);\n",
    "\n",
    "# we see cosine clumps around 0.8, it is already interesting that most combinations have a somewhat high cosine similarity"
   ]
  },
  {
   "attachments": {},
   "cell_type": "markdown",
   "metadata": {},
   "source": [
    "### Visualize performance of cosine similarity with plain vanilla openai embeddings"
   ]
  },
  {
   "cell_type": "code",
   "execution_count": 12,
   "metadata": {},
   "outputs": [
    {
     "data": {
      "image/png": "[encoded data removed]",
      "text/plain": [
       "<Figure size 640x480 with 1 Axes>"
      ]
     },
     "metadata": {},
     "output_type": "display_data"
    }
   ],
   "source": [
    "df.groupby(df.score>=0.5).cosine_sim.hist(bins=30);\n",
    "# we see that the cosine similartiy is higher for higher scores, but it is not splitting similar and dissimilar well\n",
    "# -> we confirm the problem observed in the tweet. Out of the box embeddings from openai will not serve us well\n",
    "# when using cosine similarity"
   ]
  },
  {
   "cell_type": "code",
   "execution_count": 13,
   "metadata": {},
   "outputs": [
    {
     "data": {
      "text/plain": [
       "0.48"
      ]
     },
     "execution_count": 13,
     "metadata": {},
     "output_type": "execute_result"
    }
   ],
   "source": [
    "def mean_abs_error():\n",
    "    return (df.cosine_sim-df.score).abs().mean()\n",
    "\n",
    "mean_abs_error().round(2) # average error 0.5"
   ]
  },
  {
   "cell_type": "code",
   "execution_count": 14,
   "metadata": {},
   "outputs": [
    {
     "data": {
      "text/plain": [
       "PearsonRResult(statistic=0.5901750160313239, pvalue=0.0)"
      ]
     },
     "execution_count": 14,
     "metadata": {},
     "output_type": "execute_result"
    }
   ],
   "source": [
    "from scipy import stats\n",
    "\n",
    "stats.pearsonr(df.cosine_sim, df.score) \n",
    "# pearson score is used as an evaluation metric for this challenge"
   ]
  },
  {
   "attachments": {},
   "cell_type": "markdown",
   "metadata": {},
   "source": [
    "## Train embeddings using plain pytorch"
   ]
  },
  {
   "cell_type": "code",
   "execution_count": 15,
   "metadata": {},
   "outputs": [
    {
     "data": {
      "text/plain": [
       "torch.Size([33473, 1536])"
      ]
     },
     "execution_count": 15,
     "metadata": {},
     "output_type": "execute_result"
    }
   ],
   "source": [
    "e1 = np.stack(np.array(df[\"anchor_embeddings\"].values))\n",
    "e1 = torch.from_numpy(e1).float()\n",
    "e1.shape"
   ]
  },
  {
   "cell_type": "code",
   "execution_count": 16,
   "metadata": {},
   "outputs": [],
   "source": [
    "e1 = torch.tensor(df.anchor_embeddings,dtype=torch.float32)\n",
    "e2 = torch.tensor(df.target_embeddings,dtype=torch.float32)\n",
    "context = torch.tensor(df.context_id,dtype=torch.int32)\n",
    "target= torch.tensor(df.score,dtype=torch.float32)\n",
    "\n",
    "dataset = torch.utils.data.TensorDataset(e1, e2, context, target)"
   ]
  },
  {
   "cell_type": "code",
   "execution_count": 17,
   "metadata": {},
   "outputs": [],
   "source": [
    "def model(embedding_1, embedding_2, context, context_embedding, matrix, dropout_perc=0):\n",
    "    e1 = torch.nn.functional.dropout(embedding_1,dropout_perc)\n",
    "    e2 = torch.nn.functional.dropout(embedding_2,dropout_perc)\n",
    "    modified_embedding_1 = e1@ matrix  # @ is matrix multiplication\n",
    "\n",
    "    # the modified embedding is multiplied with the specific context of the query. E.g. a \"bird\" in the context of nature is a bird, in the context of \n",
    "    # crime it could be a lookout post\n",
    "    #modified_embedding_1 = modified_embedding_1 * context_embedding(context)\n",
    "\n",
    "    modified_embedding_2 = e2@ matrix  \n",
    "    # modified_embedding_2 = modified_embedding_2 * context_embedding(context)\n",
    "\n",
    "    # adding one non-linearity to the model improves it a lot. the sample notebook only adds a linear transformation\n",
    "    modified_embedding_1= torch.nn.functional.relu(modified_embedding_1)\n",
    "    modified_embedding_2= torch.nn.functional.relu(modified_embedding_2)\n",
    "    similarity = torch.nn.functional.cosine_similarity(\n",
    "        modified_embedding_1, modified_embedding_2\n",
    "    )\n",
    "    return similarity\n",
    "\n",
    "# define loss function to minimize\n",
    "def mean_absolute_error(predictions, targets):\n",
    "    difference = (predictions - targets).abs()\n",
    "    return torch.mean(difference)\n",
    "\n",
    "def pearson(predictions, targets):\n",
    "    p= stats.pearsonr(predictions.detach(), targets.detach()).statistic\n",
    "    return p"
   ]
  },
  {
   "cell_type": "code",
   "execution_count": 18,
   "metadata": {},
   "outputs": [
    {
     "name": "stdout",
     "output_type": "stream",
     "text": [
      "0.49035319685935974 0.6184839653894958\n"
     ]
    }
   ],
   "source": [
    "# before we start training, check with a sample batch\n",
    "embedding_shape=1536\n",
    "embedding_shape_modded = 1536\n",
    "matrix = torch.randn(embedding_shape,embedding_shape_modded,requires_grad=True)\n",
    "context_embedding = torch.nn.Embedding(num_embeddings=len(words),embedding_dim=embedding_shape_modded)\n",
    "\n",
    "train_loader = torch.utils.data.DataLoader(\n",
    "        dataset, batch_size=2000, shuffle=False\n",
    "    )\n",
    "anchor_emeddings,target_embeddings,context, target_sim_score = next(iter(train_loader))\n",
    "sims = model(anchor_emeddings,target_embeddings,context, context_embedding, matrix,dropout_perc=0)\n",
    "loss = mean_absolute_error(predictions=sims, targets=target_sim_score)\n",
    "p = pearson(target_sim_score,sims)\n",
    "print(loss.item(),p)"
   ]
  },
  {
   "cell_type": "code",
   "execution_count": 19,
   "metadata": {},
   "outputs": [],
   "source": [
    "e1_val = torch.tensor(eval_df.anchor_embeddings)\n",
    "e2_val = torch.tensor(eval_df.target_embeddings)\n",
    "context_val = torch.tensor(eval_df.context_id)\n",
    "target_val= torch.tensor(eval_df.score)\n",
    "\n",
    "def calc_evaluation_error(dropout_perc):\n",
    "    sims = model(e1_val,e2_val,context_val,context_embedding,matrix,dropout_perc=dropout_perc)\n",
    "    loss = mean_absolute_error(predictions=sims, targets=target_val)\n",
    "    pearson= stats.pearsonr(sims.detach(), eval_df.score).statistic\n",
    "    return loss, sims,pearson"
   ]
  },
  {
   "cell_type": "code",
   "execution_count": 20,
   "metadata": {},
   "outputs": [],
   "source": [
    "#random init of the modification matrix\n",
    "set_seed(1)\n",
    "\n",
    "embedding_shape=1536\n",
    "embedding_shape_modded = 1536\n",
    "\n",
    "matrix = torch.randn(embedding_shape,embedding_shape_modded).requires_grad_()\n",
    "#context_embedding = torch.nn.Embedding(num_embeddings=len(words),embedding_dim=embedding_shape_modded)\n",
    "\n",
    "train_loader = torch.utils.data.DataLoader(\n",
    "        dataset, batch_size=512*2, shuffle=True\n",
    "    )\n",
    "\n",
    "optim = torch.optim.Adam(lr=0.01, params=[matrix])#,context_embedding.weight])\n",
    "\n",
    "def train(num_epochs,dropout_perc):\n",
    "    for e in range(num_epochs):\n",
    "        for i,(e1_batch,e2_batch,context, actual_similarity) in enumerate(train_loader):\n",
    "            sims = model(e1_batch,e2_batch,context,context_embedding, matrix,dropout_perc=dropout_perc)\n",
    "            loss = mean_absolute_error(predictions=sims, targets=actual_similarity)\n",
    "            loss.backward()\n",
    "            optim.step()\n",
    "            optim.zero_grad()\n",
    "            if i%10==0:\n",
    "                val_loss,_,pearson = calc_evaluation_error(dropout_perc)\n",
    "                msg= f\"{e} {i} training_loss {round(loss.item(),3)}, valdation loss {round(val_loss.item(),3)}, pearson {pearson.round(3)}\"\n",
    "                if dropout_perc!=0:\n",
    "                    val_loss_0,_,pearson_val = calc_evaluation_error(dropout_perc=0)\n",
    "                    msg= f\"{e} {i} training_loss {round(loss.item(),3)}, valdation loss {round(val_loss.item(),3)}, {round(val_loss_0.item(),3)}, \"\\\n",
    "                         f\"pearson {pearson.round(3)}, {pearson_val.round(3)}\"\n",
    "\n",
    "                print(msg)        \n"
   ]
  },
  {
   "cell_type": "code",
   "execution_count": 21,
   "metadata": {},
   "outputs": [
    {
     "name": "stdout",
     "output_type": "stream",
     "text": [
      "0 0 training_loss 0.505, valdation loss 0.471, pearson 0.581\n",
      "0 10 training_loss 0.198, valdation loss 0.183, pearson 0.591\n",
      "0 20 training_loss 0.167, valdation loss 0.16, pearson 0.631\n",
      "0 30 training_loss 0.157, valdation loss 0.152, pearson 0.659\n",
      "1 0 training_loss 0.149, valdation loss 0.151, pearson 0.668\n",
      "1 10 training_loss 0.149, valdation loss 0.146, pearson 0.693\n",
      "1 20 training_loss 0.146, valdation loss 0.139, pearson 0.716\n",
      "1 30 training_loss 0.142, valdation loss 0.134, pearson 0.734\n",
      "2 0 training_loss 0.132, valdation loss 0.133, pearson 0.738\n",
      "2 10 training_loss 0.13, valdation loss 0.127, pearson 0.758\n",
      "2 20 training_loss 0.131, valdation loss 0.125, pearson 0.768\n",
      "2 30 training_loss 0.13, valdation loss 0.122, pearson 0.778\n",
      "3 0 training_loss 0.115, valdation loss 0.121, pearson 0.783\n",
      "3 10 training_loss 0.114, valdation loss 0.118, pearson 0.793\n",
      "3 20 training_loss 0.123, valdation loss 0.115, pearson 0.798\n",
      "3 30 training_loss 0.117, valdation loss 0.113, pearson 0.808\n",
      "4 0 training_loss 0.11, valdation loss 0.112, pearson 0.812\n",
      "4 10 training_loss 0.105, valdation loss 0.108, pearson 0.822\n",
      "4 20 training_loss 0.104, valdation loss 0.108, pearson 0.821\n",
      "4 30 training_loss 0.111, valdation loss 0.106, pearson 0.828\n",
      "5 0 training_loss 0.101, valdation loss 0.106, pearson 0.828\n",
      "5 10 training_loss 0.105, valdation loss 0.102, pearson 0.838\n",
      "5 20 training_loss 0.102, valdation loss 0.102, pearson 0.842\n",
      "5 30 training_loss 0.103, valdation loss 0.1, pearson 0.846\n",
      "6 0 training_loss 0.098, valdation loss 0.1, pearson 0.845\n",
      "6 10 training_loss 0.091, valdation loss 0.097, pearson 0.852\n",
      "6 20 training_loss 0.097, valdation loss 0.097, pearson 0.852\n",
      "6 30 training_loss 0.098, valdation loss 0.096, pearson 0.854\n",
      "7 0 training_loss 0.091, valdation loss 0.095, pearson 0.856\n",
      "7 10 training_loss 0.091, valdation loss 0.093, pearson 0.863\n",
      "7 20 training_loss 0.095, valdation loss 0.093, pearson 0.864\n",
      "7 30 training_loss 0.096, valdation loss 0.091, pearson 0.869\n",
      "8 0 training_loss 0.08, valdation loss 0.091, pearson 0.87\n",
      "8 10 training_loss 0.089, valdation loss 0.089, pearson 0.871\n",
      "8 20 training_loss 0.086, valdation loss 0.088, pearson 0.875\n",
      "8 30 training_loss 0.093, valdation loss 0.087, pearson 0.875\n",
      "9 0 training_loss 0.08, valdation loss 0.086, pearson 0.876\n",
      "9 10 training_loss 0.078, valdation loss 0.087, pearson 0.875\n",
      "9 20 training_loss 0.08, valdation loss 0.084, pearson 0.883\n",
      "9 30 training_loss 0.085, valdation loss 0.083, pearson 0.885\n",
      "10 0 training_loss 0.078, valdation loss 0.083, pearson 0.886\n",
      "10 10 training_loss 0.076, valdation loss 0.081, pearson 0.887\n",
      "10 20 training_loss 0.077, valdation loss 0.08, pearson 0.891\n",
      "10 30 training_loss 0.086, valdation loss 0.081, pearson 0.89\n",
      "11 0 training_loss 0.075, valdation loss 0.081, pearson 0.89\n",
      "11 10 training_loss 0.078, valdation loss 0.08, pearson 0.893\n",
      "11 20 training_loss 0.08, valdation loss 0.08, pearson 0.892\n",
      "11 30 training_loss 0.085, valdation loss 0.079, pearson 0.894\n",
      "12 0 training_loss 0.076, valdation loss 0.079, pearson 0.893\n",
      "12 10 training_loss 0.069, valdation loss 0.077, pearson 0.897\n",
      "12 20 training_loss 0.072, valdation loss 0.076, pearson 0.898\n",
      "12 30 training_loss 0.076, valdation loss 0.077, pearson 0.898\n",
      "13 0 training_loss 0.069, valdation loss 0.077, pearson 0.896\n",
      "13 10 training_loss 0.073, valdation loss 0.075, pearson 0.901\n",
      "13 20 training_loss 0.074, valdation loss 0.074, pearson 0.903\n",
      "13 30 training_loss 0.071, valdation loss 0.074, pearson 0.902\n",
      "14 0 training_loss 0.068, valdation loss 0.074, pearson 0.903\n",
      "14 10 training_loss 0.074, valdation loss 0.073, pearson 0.906\n",
      "14 20 training_loss 0.07, valdation loss 0.073, pearson 0.906\n",
      "14 30 training_loss 0.07, valdation loss 0.072, pearson 0.909\n",
      "15 0 training_loss 0.063, valdation loss 0.072, pearson 0.909\n",
      "15 10 training_loss 0.069, valdation loss 0.071, pearson 0.907\n",
      "15 20 training_loss 0.065, valdation loss 0.071, pearson 0.908\n",
      "15 30 training_loss 0.064, valdation loss 0.07, pearson 0.911\n",
      "16 0 training_loss 0.067, valdation loss 0.07, pearson 0.91\n",
      "16 10 training_loss 0.066, valdation loss 0.07, pearson 0.911\n",
      "16 20 training_loss 0.063, valdation loss 0.069, pearson 0.913\n",
      "16 30 training_loss 0.063, valdation loss 0.068, pearson 0.914\n",
      "17 0 training_loss 0.059, valdation loss 0.068, pearson 0.913\n",
      "17 10 training_loss 0.059, valdation loss 0.069, pearson 0.912\n",
      "17 20 training_loss 0.062, valdation loss 0.067, pearson 0.917\n",
      "17 30 training_loss 0.064, valdation loss 0.068, pearson 0.913\n",
      "18 0 training_loss 0.058, valdation loss 0.068, pearson 0.915\n",
      "18 10 training_loss 0.06, valdation loss 0.067, pearson 0.914\n",
      "18 20 training_loss 0.059, valdation loss 0.066, pearson 0.918\n",
      "18 30 training_loss 0.059, valdation loss 0.065, pearson 0.918\n",
      "19 0 training_loss 0.057, valdation loss 0.065, pearson 0.92\n",
      "19 10 training_loss 0.057, valdation loss 0.066, pearson 0.918\n",
      "19 20 training_loss 0.059, valdation loss 0.064, pearson 0.921\n",
      "19 30 training_loss 0.058, valdation loss 0.063, pearson 0.922\n",
      "20 0 training_loss 0.051, valdation loss 0.064, pearson 0.921\n",
      "20 10 training_loss 0.06, valdation loss 0.063, pearson 0.922\n",
      "20 20 training_loss 0.06, valdation loss 0.063, pearson 0.924\n",
      "20 30 training_loss 0.058, valdation loss 0.063, pearson 0.923\n",
      "21 0 training_loss 0.049, valdation loss 0.063, pearson 0.922\n",
      "21 10 training_loss 0.057, valdation loss 0.062, pearson 0.924\n",
      "21 20 training_loss 0.055, valdation loss 0.061, pearson 0.924\n",
      "21 30 training_loss 0.057, valdation loss 0.063, pearson 0.923\n",
      "22 0 training_loss 0.057, valdation loss 0.062, pearson 0.925\n",
      "22 10 training_loss 0.051, valdation loss 0.063, pearson 0.923\n",
      "22 20 training_loss 0.053, valdation loss 0.062, pearson 0.924\n",
      "22 30 training_loss 0.054, valdation loss 0.061, pearson 0.927\n",
      "23 0 training_loss 0.051, valdation loss 0.062, pearson 0.926\n",
      "23 10 training_loss 0.053, valdation loss 0.061, pearson 0.926\n",
      "23 20 training_loss 0.055, valdation loss 0.06, pearson 0.928\n",
      "23 30 training_loss 0.055, valdation loss 0.06, pearson 0.927\n",
      "24 0 training_loss 0.051, valdation loss 0.06, pearson 0.927\n",
      "24 10 training_loss 0.051, valdation loss 0.06, pearson 0.928\n",
      "24 20 training_loss 0.051, valdation loss 0.059, pearson 0.928\n",
      "24 30 training_loss 0.057, valdation loss 0.06, pearson 0.928\n",
      "25 0 training_loss 0.052, valdation loss 0.061, pearson 0.928\n",
      "25 10 training_loss 0.052, valdation loss 0.059, pearson 0.93\n",
      "25 20 training_loss 0.054, valdation loss 0.059, pearson 0.927\n",
      "25 30 training_loss 0.052, valdation loss 0.058, pearson 0.931\n",
      "26 0 training_loss 0.051, valdation loss 0.058, pearson 0.93\n",
      "26 10 training_loss 0.052, valdation loss 0.059, pearson 0.93\n",
      "26 20 training_loss 0.051, valdation loss 0.058, pearson 0.93\n",
      "26 30 training_loss 0.054, valdation loss 0.059, pearson 0.929\n",
      "27 0 training_loss 0.047, valdation loss 0.059, pearson 0.93\n",
      "27 10 training_loss 0.047, valdation loss 0.057, pearson 0.931\n",
      "27 20 training_loss 0.051, valdation loss 0.059, pearson 0.931\n",
      "27 30 training_loss 0.051, valdation loss 0.058, pearson 0.931\n",
      "28 0 training_loss 0.045, valdation loss 0.058, pearson 0.931\n",
      "28 10 training_loss 0.049, valdation loss 0.059, pearson 0.93\n",
      "28 20 training_loss 0.053, valdation loss 0.056, pearson 0.933\n",
      "28 30 training_loss 0.048, valdation loss 0.056, pearson 0.933\n",
      "29 0 training_loss 0.045, valdation loss 0.056, pearson 0.933\n",
      "29 10 training_loss 0.045, valdation loss 0.057, pearson 0.933\n",
      "29 20 training_loss 0.046, valdation loss 0.056, pearson 0.933\n",
      "29 30 training_loss 0.047, valdation loss 0.055, pearson 0.934\n",
      "30 0 training_loss 0.048, valdation loss 0.055, pearson 0.935\n",
      "30 10 training_loss 0.046, valdation loss 0.055, pearson 0.934\n",
      "30 20 training_loss 0.044, valdation loss 0.055, pearson 0.935\n",
      "30 30 training_loss 0.054, valdation loss 0.055, pearson 0.935\n",
      "31 0 training_loss 0.046, valdation loss 0.055, pearson 0.935\n",
      "31 10 training_loss 0.047, valdation loss 0.054, pearson 0.937\n",
      "31 20 training_loss 0.047, valdation loss 0.055, pearson 0.935\n",
      "31 30 training_loss 0.045, valdation loss 0.053, pearson 0.938\n",
      "32 0 training_loss 0.046, valdation loss 0.053, pearson 0.939\n",
      "32 10 training_loss 0.046, valdation loss 0.053, pearson 0.938\n",
      "32 20 training_loss 0.047, valdation loss 0.053, pearson 0.938\n",
      "32 30 training_loss 0.046, valdation loss 0.054, pearson 0.936\n",
      "33 0 training_loss 0.043, valdation loss 0.055, pearson 0.937\n",
      "33 10 training_loss 0.045, valdation loss 0.053, pearson 0.938\n",
      "33 20 training_loss 0.044, valdation loss 0.052, pearson 0.939\n",
      "33 30 training_loss 0.044, valdation loss 0.053, pearson 0.938\n",
      "34 0 training_loss 0.043, valdation loss 0.053, pearson 0.937\n",
      "34 10 training_loss 0.042, valdation loss 0.052, pearson 0.939\n",
      "34 20 training_loss 0.044, valdation loss 0.052, pearson 0.939\n",
      "34 30 training_loss 0.042, valdation loss 0.053, pearson 0.938\n",
      "35 0 training_loss 0.04, valdation loss 0.053, pearson 0.937\n",
      "35 10 training_loss 0.044, valdation loss 0.053, pearson 0.938\n",
      "35 20 training_loss 0.043, valdation loss 0.053, pearson 0.939\n",
      "35 30 training_loss 0.043, valdation loss 0.051, pearson 0.939\n",
      "36 0 training_loss 0.039, valdation loss 0.051, pearson 0.939\n",
      "36 10 training_loss 0.044, valdation loss 0.053, pearson 0.938\n",
      "36 20 training_loss 0.041, valdation loss 0.051, pearson 0.939\n",
      "36 30 training_loss 0.046, valdation loss 0.051, pearson 0.939\n",
      "37 0 training_loss 0.042, valdation loss 0.052, pearson 0.939\n",
      "37 10 training_loss 0.041, valdation loss 0.051, pearson 0.941\n",
      "37 20 training_loss 0.041, valdation loss 0.051, pearson 0.94\n",
      "37 30 training_loss 0.041, valdation loss 0.051, pearson 0.941\n",
      "38 0 training_loss 0.041, valdation loss 0.052, pearson 0.94\n",
      "38 10 training_loss 0.044, valdation loss 0.051, pearson 0.941\n",
      "38 20 training_loss 0.043, valdation loss 0.051, pearson 0.94\n",
      "38 30 training_loss 0.042, valdation loss 0.051, pearson 0.94\n",
      "39 0 training_loss 0.041, valdation loss 0.05, pearson 0.941\n",
      "39 10 training_loss 0.044, valdation loss 0.051, pearson 0.94\n",
      "39 20 training_loss 0.042, valdation loss 0.051, pearson 0.941\n",
      "39 30 training_loss 0.041, valdation loss 0.05, pearson 0.941\n",
      "40 0 training_loss 0.039, valdation loss 0.05, pearson 0.942\n",
      "40 10 training_loss 0.042, valdation loss 0.051, pearson 0.941\n",
      "40 20 training_loss 0.041, valdation loss 0.05, pearson 0.941\n",
      "40 30 training_loss 0.043, valdation loss 0.05, pearson 0.941\n",
      "41 0 training_loss 0.039, valdation loss 0.05, pearson 0.941\n",
      "41 10 training_loss 0.038, valdation loss 0.049, pearson 0.942\n",
      "41 20 training_loss 0.042, valdation loss 0.051, pearson 0.94\n",
      "41 30 training_loss 0.042, valdation loss 0.049, pearson 0.943\n",
      "42 0 training_loss 0.039, valdation loss 0.05, pearson 0.942\n",
      "42 10 training_loss 0.039, valdation loss 0.049, pearson 0.943\n",
      "42 20 training_loss 0.039, valdation loss 0.05, pearson 0.943\n",
      "42 30 training_loss 0.041, valdation loss 0.049, pearson 0.942\n",
      "43 0 training_loss 0.039, valdation loss 0.05, pearson 0.942\n",
      "43 10 training_loss 0.041, valdation loss 0.05, pearson 0.942\n",
      "43 20 training_loss 0.039, valdation loss 0.048, pearson 0.944\n",
      "43 30 training_loss 0.039, valdation loss 0.049, pearson 0.943\n",
      "44 0 training_loss 0.039, valdation loss 0.049, pearson 0.943\n",
      "44 10 training_loss 0.036, valdation loss 0.048, pearson 0.943\n",
      "44 20 training_loss 0.041, valdation loss 0.049, pearson 0.943\n",
      "44 30 training_loss 0.038, valdation loss 0.047, pearson 0.945\n",
      "45 0 training_loss 0.038, valdation loss 0.048, pearson 0.945\n",
      "45 10 training_loss 0.038, valdation loss 0.048, pearson 0.944\n",
      "45 20 training_loss 0.04, valdation loss 0.048, pearson 0.943\n",
      "45 30 training_loss 0.04, valdation loss 0.048, pearson 0.944\n",
      "46 0 training_loss 0.036, valdation loss 0.048, pearson 0.945\n",
      "46 10 training_loss 0.038, valdation loss 0.047, pearson 0.945\n",
      "46 20 training_loss 0.038, valdation loss 0.047, pearson 0.944\n",
      "46 30 training_loss 0.04, valdation loss 0.047, pearson 0.944\n",
      "47 0 training_loss 0.037, valdation loss 0.047, pearson 0.945\n",
      "47 10 training_loss 0.038, valdation loss 0.047, pearson 0.944\n",
      "47 20 training_loss 0.038, valdation loss 0.048, pearson 0.944\n",
      "47 30 training_loss 0.036, valdation loss 0.047, pearson 0.945\n",
      "48 0 training_loss 0.035, valdation loss 0.047, pearson 0.944\n",
      "48 10 training_loss 0.036, valdation loss 0.047, pearson 0.945\n",
      "48 20 training_loss 0.037, valdation loss 0.047, pearson 0.943\n",
      "48 30 training_loss 0.037, valdation loss 0.047, pearson 0.944\n",
      "49 0 training_loss 0.038, valdation loss 0.047, pearson 0.944\n",
      "49 10 training_loss 0.035, valdation loss 0.047, pearson 0.945\n",
      "49 20 training_loss 0.038, valdation loss 0.047, pearson 0.945\n",
      "49 30 training_loss 0.037, valdation loss 0.048, pearson 0.946\n"
     ]
    }
   ],
   "source": [
    "train(50,dropout_perc=0.0)"
   ]
  },
  {
   "cell_type": "code",
   "execution_count": 22,
   "metadata": {},
   "outputs": [
    {
     "data": {
      "text/plain": [
       "(0.04754971501760989, 0.9458010654712562)"
      ]
     },
     "execution_count": 22,
     "metadata": {},
     "output_type": "execute_result"
    }
   ],
   "source": [
    "val_loss_0,val_sims,pearson_val, = calc_evaluation_error(dropout_perc=0)\n",
    "val_loss_0.item(),pearson_val"
   ]
  },
  {
   "cell_type": "markdown",
   "metadata": {},
   "source": [
    "## Visalize results\n",
    "\n"
   ]
  },
  {
   "cell_type": "code",
   "execution_count": 23,
   "metadata": {},
   "outputs": [
    {
     "data": {
      "image/png": "[encoded data removed]",
      "text/plain": [
       "<Figure size 640x480 with 1 Axes>"
      ]
     },
     "metadata": {},
     "output_type": "display_data"
    }
   ],
   "source": [
    "import matplotlib.pyplot as plt\n",
    "\n",
    "eval_df.groupby(eval_df.score>=0.5).cosine_sim.hist(bins=30,alpha=0.5);\n",
    "plt.title(\"Before training\");\n"
   ]
  },
  {
   "cell_type": "code",
   "execution_count": 24,
   "metadata": {},
   "outputs": [
    {
     "data": {
      "image/png": "[encoded data removed]",
      "text/plain": [
       "<Figure size 640x480 with 1 Axes>"
      ]
     },
     "metadata": {},
     "output_type": "display_data"
    }
   ],
   "source": [
    "plt.title(\"After training\");\n",
    "\n",
    "sims=model(e1_val,e2_val, context_val, context_embedding, matrix)\n",
    "eval_df[\"cosine_improved\"]=sims.detach()\n",
    "eval_df.groupby(eval_df.score>=0.5).cosine_improved.hist(bins=30,alpha=0.5);\n",
    "\n",
    "# expected pattern, close to real scores (0.25 steps)"
   ]
  },
  {
   "cell_type": "markdown",
   "metadata": {},
   "source": [
    "## Submission"
   ]
  },
  {
   "cell_type": "code",
   "execution_count": 25,
   "metadata": {},
   "outputs": [
    {
     "data": {
      "text/html": [
       "<div>\n",
       "<style scoped>\n",
       "    .dataframe tbody tr th:only-of-type {\n",
       "        vertical-align: middle;\n",
       "    }\n",
       "\n",
       "    .dataframe tbody tr th {\n",
       "        vertical-align: top;\n",
       "    }\n",
       "\n",
       "    .dataframe thead th {\n",
       "        text-align: right;\n",
       "    }\n",
       "</style>\n",
       "<table border=\"1\" class=\"dataframe\">\n",
       "  <thead>\n",
       "    <tr style=\"text-align: right;\">\n",
       "      <th></th>\n",
       "      <th>id</th>\n",
       "      <th>anchor</th>\n",
       "      <th>target</th>\n",
       "      <th>context</th>\n",
       "    </tr>\n",
       "  </thead>\n",
       "  <tbody>\n",
       "    <tr>\n",
       "      <th>0</th>\n",
       "      <td>4112d61851461f60</td>\n",
       "      <td>opc drum</td>\n",
       "      <td>inorganic photoconductor drum</td>\n",
       "      <td>G02</td>\n",
       "    </tr>\n",
       "    <tr>\n",
       "      <th>1</th>\n",
       "      <td>09e418c93a776564</td>\n",
       "      <td>adjust gas flow</td>\n",
       "      <td>altering gas flow</td>\n",
       "      <td>F23</td>\n",
       "    </tr>\n",
       "    <tr>\n",
       "      <th>2</th>\n",
       "      <td>36baf228038e314b</td>\n",
       "      <td>lower trunnion</td>\n",
       "      <td>lower locating</td>\n",
       "      <td>B60</td>\n",
       "    </tr>\n",
       "    <tr>\n",
       "      <th>3</th>\n",
       "      <td>1f37ead645e7f0c8</td>\n",
       "      <td>cap component</td>\n",
       "      <td>upper portion</td>\n",
       "      <td>D06</td>\n",
       "    </tr>\n",
       "    <tr>\n",
       "      <th>4</th>\n",
       "      <td>71a5b6ad068d531f</td>\n",
       "      <td>neural stimulation</td>\n",
       "      <td>artificial neural network</td>\n",
       "      <td>H04</td>\n",
       "    </tr>\n",
       "  </tbody>\n",
       "</table>\n",
       "</div>"
      ],
      "text/plain": [
       "                 id              anchor                         target context\n",
       "0  4112d61851461f60            opc drum  inorganic photoconductor drum     G02\n",
       "1  09e418c93a776564     adjust gas flow              altering gas flow     F23\n",
       "2  36baf228038e314b      lower trunnion                 lower locating     B60\n",
       "3  1f37ead645e7f0c8       cap component                  upper portion     D06\n",
       "4  71a5b6ad068d531f  neural stimulation      artificial neural network     H04"
      ]
     },
     "execution_count": 25,
     "metadata": {},
     "output_type": "execute_result"
    }
   ],
   "source": [
    "if is_local:\n",
    "    test_df = pd.read_csv(\"~/Downloads/us-patent-phrase-to-phrase-matching/test.csv\")\n",
    "else:\n",
    "    test_df = pd.read_csv(\"/kaggle/input/us-patent-phrase-to-phrase-matching/test.csv\")\n",
    "test_df.head()\n"
   ]
  },
  {
   "cell_type": "code",
   "execution_count": 26,
   "metadata": {},
   "outputs": [
    {
     "data": {
      "text/plain": [
       "36"
      ]
     },
     "execution_count": 26,
     "metadata": {},
     "output_type": "execute_result"
    }
   ],
   "source": [
    "len(test_df)\n",
    "# weird,only 36 entried, not ideal"
   ]
  },
  {
   "cell_type": "code",
   "execution_count": 27,
   "metadata": {},
   "outputs": [],
   "source": [
    "# add features\n",
    "test_df=add_embeddings(test_df,cache_file_prefix=\"eval_\")\n",
    "test_df[\"cat\"] = test_df.context.str[0]\n",
    "test_df[\"context_id\"] = test_df.apply(lambda x:word_to_ix[x[\"context\"]],axis=1)\n",
    "test_df[\"cat_id\"] = test_df.apply(lambda x:cat_to_ix[x[\"cat\"]],axis=1)"
   ]
  },
  {
   "cell_type": "code",
   "execution_count": 40,
   "metadata": {},
   "outputs": [],
   "source": [
    "test_df[\"cosine_sim\"]=test_df.apply(lambda x: cosine_similarity(x[\"anchor_embeddings\"],x[\"target_embeddings\"]),axis=1 )"
   ]
  },
  {
   "cell_type": "code",
   "execution_count": 51,
   "metadata": {},
   "outputs": [],
   "source": [
    "e1 = torch.tensor(test_df.anchor_embeddings,dtype=torch.float32)\n",
    "e2 = torch.tensor(test_df.target_embeddings,dtype=torch.float32)\n",
    "contexts= torch.tensor(test_df.context_id, dtype=torch.int)\n",
    "cats= torch.tensor(test_df.cat_id, dtype=torch.int)\n",
    "\n",
    "sims = model(e1,e1,contexts, context_embedding, matrix)\n",
    "test_df[\"score\"]=sims.detach()"
   ]
  },
  {
   "cell_type": "code",
   "execution_count": 52,
   "metadata": {},
   "outputs": [
    {
     "data": {
      "text/plain": [
       "score\n",
       "1.0    15\n",
       "1.0     8\n",
       "1.0     7\n",
       "1.0     5\n",
       "1.0     1\n",
       "Name: count, dtype: int64"
      ]
     },
     "execution_count": 52,
     "metadata": {},
     "output_type": "execute_result"
    }
   ],
   "source": [
    "test_df[\"score\"].value_counts()"
   ]
  },
  {
   "cell_type": "code",
   "execution_count": 53,
   "metadata": {},
   "outputs": [
    {
     "data": {
      "text/plain": [
       "0     1.0\n",
       "1     1.0\n",
       "2     1.0\n",
       "3     1.0\n",
       "4     1.0\n",
       "5     1.0\n",
       "6     1.0\n",
       "7     1.0\n",
       "8     1.0\n",
       "9     1.0\n",
       "10    1.0\n",
       "11    1.0\n",
       "12    1.0\n",
       "13    1.0\n",
       "14    1.0\n",
       "15    1.0\n",
       "16    1.0\n",
       "17    1.0\n",
       "18    1.0\n",
       "19    1.0\n",
       "20    1.0\n",
       "21    1.0\n",
       "22    1.0\n",
       "23    1.0\n",
       "24    1.0\n",
       "25    1.0\n",
       "26    1.0\n",
       "27    1.0\n",
       "28    1.0\n",
       "29    1.0\n",
       "30    1.0\n",
       "31    1.0\n",
       "32    1.0\n",
       "33    1.0\n",
       "34    1.0\n",
       "35    1.0\n",
       "Name: score, dtype: float32"
      ]
     },
     "execution_count": 53,
     "metadata": {},
     "output_type": "execute_result"
    }
   ],
   "source": [
    "test_df[\"score\"]"
   ]
  },
  {
   "cell_type": "code",
   "execution_count": 55,
   "metadata": {},
   "outputs": [],
   "source": [
    "test_df[[\"id\",\"score\"]].to_csv(\"submission.csv\",index=False)"
   ]
  },
  {
   "cell_type": "code",
   "execution_count": null,
   "metadata": {},
   "outputs": [],
   "source": []
  }
 ],
 "metadata": {
  "kernelspec": {
   "display_name": ".venv",
   "language": "python",
   "name": "python3"
  },
  "language_info": {
   "codemirror_mode": {
    "name": "ipython",
    "version": 3
   },
   "file_extension": ".py",
   "mimetype": "text/x-python",
   "name": "python",
   "nbconvert_exporter": "python",
   "pygments_lexer": "ipython3",
   "version": "3.10.1"
  },
  "orig_nbformat": 4
 },
 "nbformat": 4,
 "nbformat_minor": 2
}
